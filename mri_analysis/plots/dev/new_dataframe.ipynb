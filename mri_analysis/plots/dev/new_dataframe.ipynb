{
 "metadata": {
  "language_info": {
   "codemirror_mode": {
    "name": "ipython",
    "version": 3
   },
   "file_extension": ".py",
   "mimetype": "text/x-python",
   "name": "python",
   "nbconvert_exporter": "python",
   "pygments_lexer": "ipython3",
   "version": "3.9.1-final"
  },
  "orig_nbformat": 2,
  "kernelspec": {
   "name": "python3",
   "display_name": "Python 3",
   "language": "python"
  }
 },
 "nbformat": 4,
 "nbformat_minor": 2,
 "cells": [
  {
   "cell_type": "code",
   "execution_count": 126,
   "metadata": {},
   "outputs": [],
   "source": [
    "# IMPORTS\n",
    "# ---------\n",
    "# Stop warnings\n",
    "import warnings\n",
    "warnings.filterwarnings(\"ignore\")\n",
    "\n",
    "# General imports\n",
    "import os\n",
    "import sys\n",
    "import json\n",
    "import glob\n",
    "import numpy as np\n",
    "import h5py\n",
    "import pandas as pd\n",
    "opj = os.path.join\n",
    "import pdb\n",
    "\n",
    "# Plotly imports\n",
    "import plotly.graph_objects as go\n",
    "from plotly.subplots import make_subplots\n",
    "import plotly.express as px\n",
    "import plotly.offline as pxo"
   ]
  },
  {
   "cell_type": "code",
   "execution_count": 206,
   "metadata": {},
   "outputs": [],
   "source": [
    "# DATA\n",
    "# ----\n",
    "# Get inputs\n",
    "subject = 'sub-001'\n",
    "task = 'GazeCenterFS'\n",
    "preproc = 'fmriprep_dct_pca'\n",
    "\n",
    "# Define analysis parameters\n",
    "with open('mri_analysis/settings.json') as f:\n",
    "    json_s = f.read()\n",
    "    analysis_info = json.loads(json_s)\n",
    "\n",
    "base_dir = analysis_info['base_dir']\n",
    "h5_dir = \"{base_dir}/pp_data/{subject}/gauss/h5\".format(base_dir = base_dir, subject = subject)\n",
    "\n",
    "# load deriv data\n",
    "rsq_idx, ecc_idx, polar_real_idx, polar_imag_idx , size_idx, \\\n",
    "    amp_idx, baseline_idx, cov_idx, x_idx, y_idx, hemi_idx = 0,1,2,3,4,5,6,7,8,9,10\n",
    "rsq_dict, ecc_dict, polar_real_dict, polar_imag_dict, size_dict, x_dict, y_dict, hemi_dict = {}, {}, {}, {}, {}, {}, {}, {}\n",
    "ecc_sample_dict, size_sample_dict = {}, {}\n",
    "\n",
    "df_raw = pd.DataFrame()\n",
    "for roi in analysis_info['rois']:\n",
    "    \n",
    "    h5_file = h5py.File(\"{h5_dir}/{roi}_{task}_{preproc}.h5\".format(h5_dir = h5_dir, roi = roi, task = task, preproc = preproc),'r')\n",
    "    deriv_data = h5_file['{folder_alias}/derivatives'.format(folder_alias = 'pRF')]\n",
    "    deriv_data = deriv_data[~np.isnan(deriv_data[:,rsq_idx]),:]\n",
    "    df_roi = pd.DataFrame(deriv_data,columns = ['rsq','ecc','polar_real','polar_imag','size','amp','baseline','cov','x','y','hemi'])\n",
    "    df_roi['roi']=[roi for x in range(df_roi.shape[0])]\n",
    "    df_roi['subject']=[subject for x in range(df_roi.shape[0])]\n",
    "    df_roi['task']=[task for x in range(df_roi.shape[0])]\n",
    "    df_roi['preproc']=[preproc for x in range(df_roi.shape[0])]\n",
    "    df_raw = pd.concat([df_raw,df_roi],ignore_index=True,axis = 0)\n",
    "\n",
    "#df.to_csv('{subject}_{task}_{preproc}.gz'.format(subject=subject, task=task, preproc=preproc),compression='gzip', float_format='%.4f')\n",
    "\n",
    "rsqr_th, size_th, ecc_th = analysis_info['rsqr_th'], analysis_info['size_th'], analysis_info['ecc_th']\n",
    "df = df_raw[(df_raw.rsq >= rsqr_th) & (df_raw['size'] >= size_th[0]) & (df_raw['size'] <= size_th[1]) &  (df_raw.ecc >= ecc_th[0]) & (df_raw.ecc <= ecc_th[1])]\n"
   ]
  },
  {
   "cell_type": "code",
   "execution_count": 207,
   "metadata": {},
   "outputs": [],
   "source": [
    "idx_sample = df.index[df.roi=='V2'][np.random.permutation(df[df.roi=='V2'].shape[0])[0:analysis_info['sample_num']].tolist()]"
   ]
  },
  {
   "cell_type": "code",
   "execution_count": 213,
   "metadata": {},
   "outputs": [
    {
     "output_type": "execute_result",
     "data": {
      "text/plain": [
       "2748    1.242508\n",
       "4255    0.834068\n",
       "4062    1.847929\n",
       "3332    0.800954\n",
       "2398    1.238619\n",
       "          ...   \n",
       "2464    0.836507\n",
       "4007    1.218046\n",
       "3140    1.249831\n",
       "2687    2.662186\n",
       "3561    1.666151\n",
       "Name: size, Length: 100, dtype: float32"
      ]
     },
     "metadata": {},
     "execution_count": 213
    }
   ],
   "source": []
  },
  {
   "cell_type": "code",
   "execution_count": 193,
   "metadata": {},
   "outputs": [
    {
     "output_type": "execute_result",
     "data": {
      "text/plain": [
       "           rsq       ecc  polar_real  polar_imag      size       amp  \\\n",
       "2740  0.368637  4.888224    0.890772   -0.454451  0.959352  0.000009   \n",
       "4458  0.768338  1.429469   -0.989559    0.144131  0.705656  0.000028   \n",
       "4291  0.135654  1.173918   -0.422463   -0.906380  0.343790  0.000029   \n",
       "2430  0.293003  2.750769    0.655010   -0.755621  1.255844  0.000004   \n",
       "3207  0.275843  2.621892    0.980369    0.197171  1.267947  0.000004   \n",
       "...        ...       ...         ...         ...       ...       ...   \n",
       "4457  0.137492  1.150308   -0.621104    0.783728  1.234847  0.000003   \n",
       "2473  0.199795  3.020403    0.776939   -0.629575  1.210341  0.000005   \n",
       "3101  0.524519  9.860304    0.577129   -0.816653  2.396744  0.000032   \n",
       "3493  0.172515  9.827011   -0.361314    0.932444  1.449748  0.001188   \n",
       "4163  0.471357  6.682114   -0.929312    0.369296  1.866158  0.000006   \n",
       "\n",
       "      baseline       cov         x         y  hemi roi  subject          task  \\\n",
       "2740 -0.142992  1.000000  4.354292 -2.221458   1.0  V2  sub-001  GazeCenterFS   \n",
       "4458 -0.314460  1.000000 -1.414543  0.206031   2.0  V2  sub-001  GazeCenterFS   \n",
       "4291 -0.067563  1.000000 -0.495936 -1.064016   2.0  V2  sub-001  GazeCenterFS   \n",
       "2430 -0.120840  1.000000  1.801780 -2.078538   1.0  V2  sub-001  GazeCenterFS   \n",
       "3207 -0.133244  1.000000  2.570422  0.516960   1.0  V2  sub-001  GazeCenterFS   \n",
       "...        ...       ...       ...       ...   ...  ..      ...           ...   \n",
       "4457 -0.097098  1.000000 -0.714461  0.901529   2.0  V2  sub-001  GazeCenterFS   \n",
       "2473 -0.120160  1.000000  2.346670 -1.901572   1.0  V2  sub-001  GazeCenterFS   \n",
       "3101 -0.297554  0.707673  5.690666 -8.052448   1.0  V2  sub-001  GazeCenterFS   \n",
       "3493 -0.095712  0.616548 -3.550637  9.163139   2.0  V2  sub-001  GazeCenterFS   \n",
       "4163 -0.316040  0.976588 -6.209768  2.467678   2.0  V2  sub-001  GazeCenterFS   \n",
       "\n",
       "               preproc  \n",
       "2740  fmriprep_dct_pca  \n",
       "4458  fmriprep_dct_pca  \n",
       "4291  fmriprep_dct_pca  \n",
       "2430  fmriprep_dct_pca  \n",
       "3207  fmriprep_dct_pca  \n",
       "...                ...  \n",
       "4457  fmriprep_dct_pca  \n",
       "2473  fmriprep_dct_pca  \n",
       "3101  fmriprep_dct_pca  \n",
       "3493  fmriprep_dct_pca  \n",
       "4163  fmriprep_dct_pca  \n",
       "\n",
       "[100 rows x 15 columns]"
      ],
      "text/html": "<div>\n<style scoped>\n    .dataframe tbody tr th:only-of-type {\n        vertical-align: middle;\n    }\n\n    .dataframe tbody tr th {\n        vertical-align: top;\n    }\n\n    .dataframe thead th {\n        text-align: right;\n    }\n</style>\n<table border=\"1\" class=\"dataframe\">\n  <thead>\n    <tr style=\"text-align: right;\">\n      <th></th>\n      <th>rsq</th>\n      <th>ecc</th>\n      <th>polar_real</th>\n      <th>polar_imag</th>\n      <th>size</th>\n      <th>amp</th>\n      <th>baseline</th>\n      <th>cov</th>\n      <th>x</th>\n      <th>y</th>\n      <th>hemi</th>\n      <th>roi</th>\n      <th>subject</th>\n      <th>task</th>\n      <th>preproc</th>\n    </tr>\n  </thead>\n  <tbody>\n    <tr>\n      <th>2740</th>\n      <td>0.368637</td>\n      <td>4.888224</td>\n      <td>0.890772</td>\n      <td>-0.454451</td>\n      <td>0.959352</td>\n      <td>0.000009</td>\n      <td>-0.142992</td>\n      <td>1.000000</td>\n      <td>4.354292</td>\n      <td>-2.221458</td>\n      <td>1.0</td>\n      <td>V2</td>\n      <td>sub-001</td>\n      <td>GazeCenterFS</td>\n      <td>fmriprep_dct_pca</td>\n    </tr>\n    <tr>\n      <th>4458</th>\n      <td>0.768338</td>\n      <td>1.429469</td>\n      <td>-0.989559</td>\n      <td>0.144131</td>\n      <td>0.705656</td>\n      <td>0.000028</td>\n      <td>-0.314460</td>\n      <td>1.000000</td>\n      <td>-1.414543</td>\n      <td>0.206031</td>\n      <td>2.0</td>\n      <td>V2</td>\n      <td>sub-001</td>\n      <td>GazeCenterFS</td>\n      <td>fmriprep_dct_pca</td>\n    </tr>\n    <tr>\n      <th>4291</th>\n      <td>0.135654</td>\n      <td>1.173918</td>\n      <td>-0.422463</td>\n      <td>-0.906380</td>\n      <td>0.343790</td>\n      <td>0.000029</td>\n      <td>-0.067563</td>\n      <td>1.000000</td>\n      <td>-0.495936</td>\n      <td>-1.064016</td>\n      <td>2.0</td>\n      <td>V2</td>\n      <td>sub-001</td>\n      <td>GazeCenterFS</td>\n      <td>fmriprep_dct_pca</td>\n    </tr>\n    <tr>\n      <th>2430</th>\n      <td>0.293003</td>\n      <td>2.750769</td>\n      <td>0.655010</td>\n      <td>-0.755621</td>\n      <td>1.255844</td>\n      <td>0.000004</td>\n      <td>-0.120840</td>\n      <td>1.000000</td>\n      <td>1.801780</td>\n      <td>-2.078538</td>\n      <td>1.0</td>\n      <td>V2</td>\n      <td>sub-001</td>\n      <td>GazeCenterFS</td>\n      <td>fmriprep_dct_pca</td>\n    </tr>\n    <tr>\n      <th>3207</th>\n      <td>0.275843</td>\n      <td>2.621892</td>\n      <td>0.980369</td>\n      <td>0.197171</td>\n      <td>1.267947</td>\n      <td>0.000004</td>\n      <td>-0.133244</td>\n      <td>1.000000</td>\n      <td>2.570422</td>\n      <td>0.516960</td>\n      <td>1.0</td>\n      <td>V2</td>\n      <td>sub-001</td>\n      <td>GazeCenterFS</td>\n      <td>fmriprep_dct_pca</td>\n    </tr>\n    <tr>\n      <th>...</th>\n      <td>...</td>\n      <td>...</td>\n      <td>...</td>\n      <td>...</td>\n      <td>...</td>\n      <td>...</td>\n      <td>...</td>\n      <td>...</td>\n      <td>...</td>\n      <td>...</td>\n      <td>...</td>\n      <td>...</td>\n      <td>...</td>\n      <td>...</td>\n      <td>...</td>\n    </tr>\n    <tr>\n      <th>4457</th>\n      <td>0.137492</td>\n      <td>1.150308</td>\n      <td>-0.621104</td>\n      <td>0.783728</td>\n      <td>1.234847</td>\n      <td>0.000003</td>\n      <td>-0.097098</td>\n      <td>1.000000</td>\n      <td>-0.714461</td>\n      <td>0.901529</td>\n      <td>2.0</td>\n      <td>V2</td>\n      <td>sub-001</td>\n      <td>GazeCenterFS</td>\n      <td>fmriprep_dct_pca</td>\n    </tr>\n    <tr>\n      <th>2473</th>\n      <td>0.199795</td>\n      <td>3.020403</td>\n      <td>0.776939</td>\n      <td>-0.629575</td>\n      <td>1.210341</td>\n      <td>0.000005</td>\n      <td>-0.120160</td>\n      <td>1.000000</td>\n      <td>2.346670</td>\n      <td>-1.901572</td>\n      <td>1.0</td>\n      <td>V2</td>\n      <td>sub-001</td>\n      <td>GazeCenterFS</td>\n      <td>fmriprep_dct_pca</td>\n    </tr>\n    <tr>\n      <th>3101</th>\n      <td>0.524519</td>\n      <td>9.860304</td>\n      <td>0.577129</td>\n      <td>-0.816653</td>\n      <td>2.396744</td>\n      <td>0.000032</td>\n      <td>-0.297554</td>\n      <td>0.707673</td>\n      <td>5.690666</td>\n      <td>-8.052448</td>\n      <td>1.0</td>\n      <td>V2</td>\n      <td>sub-001</td>\n      <td>GazeCenterFS</td>\n      <td>fmriprep_dct_pca</td>\n    </tr>\n    <tr>\n      <th>3493</th>\n      <td>0.172515</td>\n      <td>9.827011</td>\n      <td>-0.361314</td>\n      <td>0.932444</td>\n      <td>1.449748</td>\n      <td>0.001188</td>\n      <td>-0.095712</td>\n      <td>0.616548</td>\n      <td>-3.550637</td>\n      <td>9.163139</td>\n      <td>2.0</td>\n      <td>V2</td>\n      <td>sub-001</td>\n      <td>GazeCenterFS</td>\n      <td>fmriprep_dct_pca</td>\n    </tr>\n    <tr>\n      <th>4163</th>\n      <td>0.471357</td>\n      <td>6.682114</td>\n      <td>-0.929312</td>\n      <td>0.369296</td>\n      <td>1.866158</td>\n      <td>0.000006</td>\n      <td>-0.316040</td>\n      <td>0.976588</td>\n      <td>-6.209768</td>\n      <td>2.467678</td>\n      <td>2.0</td>\n      <td>V2</td>\n      <td>sub-001</td>\n      <td>GazeCenterFS</td>\n      <td>fmriprep_dct_pca</td>\n    </tr>\n  </tbody>\n</table>\n<p>100 rows × 15 columns</p>\n</div>"
     },
     "metadata": {},
     "execution_count": 193
    }
   ],
   "source": []
  },
  {
   "cell_type": "code",
   "execution_count": 177,
   "metadata": {},
   "outputs": [
    {
     "output_type": "execute_result",
     "data": {
      "text/plain": [
       "rsq                   0.576569\n",
       "ecc                    3.71655\n",
       "polar_real           -0.640362\n",
       "polar_imag           -0.768073\n",
       "size                   1.68178\n",
       "amp                5.62076e-06\n",
       "baseline             -0.262113\n",
       "cov                   0.999994\n",
       "x                     -2.37993\n",
       "y                     -2.85458\n",
       "hemi                         2\n",
       "roi                         V3\n",
       "subject                sub-001\n",
       "task              GazeCenterFS\n",
       "preproc       fmriprep_dct_pca\n",
       "Name: 6691, dtype: object"
      ]
     },
     "metadata": {},
     "execution_count": 177
    }
   ],
   "source": []
  },
  {
   "cell_type": "code",
   "execution_count": null,
   "metadata": {},
   "outputs": [],
   "source": []
  }
 ]
}