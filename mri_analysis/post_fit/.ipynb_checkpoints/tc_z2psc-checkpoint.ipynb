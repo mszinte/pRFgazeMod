{
 "cells": [
  {
   "cell_type": "code",
   "execution_count": 74,
   "metadata": {},
   "outputs": [],
   "source": [
    "# Stop warnings\n",
    "# -------------\n",
    "import warnings\n",
    "warnings.filterwarnings(\"ignore\")\n",
    "\n",
    "# General imports\n",
    "# ---------------\n",
    "import os\n",
    "import sys\n",
    "import json\n",
    "import glob\n",
    "import numpy as np\n",
    "import ipdb\n",
    "import h5py\n",
    "opj = os.path.join\n",
    "deb = ipdb.set_trace\n",
    "\n",
    "# Get inputs\n",
    "# ----------\n",
    "subject = 'sub-001'\n",
    "task = 'GazeCenterFS'\n",
    "preproc = 'fmriprep_dct'\n",
    "roi = 'V1'\n",
    "\n",
    "# Define analysis parameters\n",
    "with open('../settings.json') as f:\n",
    "    json_s = f.read()\n",
    "    analysis_info = json.loads(json_s)\n",
    "\n",
    "# Define folders and settings\n",
    "# ---------------------------\n",
    "base_dir = analysis_info['base_dir']\n",
    "h5_dir = \"{base_dir}/pp_data/{subject}/gauss/h5\".format(base_dir = base_dir, subject = subject)\n",
    "\n",
    "# load h5 file\n",
    "h5_file = h5py.File(\"{h5_dir}/{roi}_{task}_{preproc}.h5\".format(h5_dir = h5_dir, roi = roi, task = task, preproc = preproc),'r')\n",
    "\n",
    "# load deriv data\n",
    "deriv_data = h5_file['{folder_alias}/derivatives'.format(folder_alias = 'pRF')]\n",
    "\n",
    "# load time course data\n",
    "tc_data = h5_file['{folder_alias}/time_course'.format(folder_alias = 'pRF')]\n",
    "data_array = np.array(tc_data)"
   ]
  },
  {
   "cell_type": "code",
   "execution_count": 76,
   "metadata": {},
   "outputs": [],
   "source": []
  },
  {
   "cell_type": "code",
   "execution_count": 73,
   "metadata": {},
   "outputs": [
    {
     "ename": "AttributeError",
     "evalue": "'Dataset' object has no attribute 'T'",
     "output_type": "error",
     "traceback": [
      "\u001b[0;31m---------------------------------------------------------------------------\u001b[0m",
      "\u001b[0;31mAttributeError\u001b[0m                            Traceback (most recent call last)",
      "\u001b[0;32m<ipython-input-73-2abb99b66b8d>\u001b[0m in \u001b[0;36m<module>\u001b[0;34m\u001b[0m\n\u001b[1;32m      1\u001b[0m \u001b[0;32mimport\u001b[0m \u001b[0mmatplotlib\u001b[0m\u001b[0;34m.\u001b[0m\u001b[0mpyplot\u001b[0m \u001b[0;32mas\u001b[0m \u001b[0mplt\u001b[0m\u001b[0;34m\u001b[0m\u001b[0m\n\u001b[1;32m      2\u001b[0m \u001b[0mfig\u001b[0m\u001b[0;34m,\u001b[0m \u001b[0maxs\u001b[0m \u001b[0;34m=\u001b[0m \u001b[0mplt\u001b[0m\u001b[0;34m.\u001b[0m\u001b[0msubplots\u001b[0m\u001b[0;34m(\u001b[0m\u001b[0;36m1\u001b[0m\u001b[0;34m,\u001b[0m \u001b[0;36m1\u001b[0m\u001b[0;34m)\u001b[0m\u001b[0;34m\u001b[0m\u001b[0m\n\u001b[0;32m----> 3\u001b[0;31m \u001b[0maxs\u001b[0m\u001b[0;34m.\u001b[0m\u001b[0mplot\u001b[0m\u001b[0;34m(\u001b[0m\u001b[0mtc_data\u001b[0m\u001b[0;34m.\u001b[0m\u001b[0mT\u001b[0m\u001b[0;34m)\u001b[0m\u001b[0;34m;\u001b[0m\u001b[0;34m\u001b[0m\u001b[0m\n\u001b[0m",
      "\u001b[0;31mAttributeError\u001b[0m: 'Dataset' object has no attribute 'T'"
     ]
    },
    {
     "data": {
      "image/png": "[encoded data removed]",
      "text/plain": [
       "<Figure size 432x288 with 1 Axes>"
      ]
     },
     "metadata": {
      "needs_background": "light"
     },
     "output_type": "display_data"
    }
   ],
   "source": [
    "import matplotlib.pyplot as plt\n",
    "fig, axs = plt.subplots(1, 1)\n",
    "axs.plot(tc_data.T);"
   ]
  },
  {
   "cell_type": "code",
   "execution_count": null,
   "metadata": {},
   "outputs": [],
   "source": []
  },
  {
   "cell_type": "code",
   "execution_count": 63,
   "metadata": {},
   "outputs": [
    {
     "ename": "NameError",
     "evalue": "name 'data2plot' is not defined",
     "output_type": "error",
     "traceback": [
      "\u001b[0;31m---------------------------------------------------------------------------\u001b[0m",
      "\u001b[0;31mNameError\u001b[0m                                 Traceback (most recent call last)",
      "\u001b[0;32m<ipython-input-63-f5c730f28e39>\u001b[0m in \u001b[0;36m<module>\u001b[0;34m\u001b[0m\n\u001b[0;32m----> 1\u001b[0;31m \u001b[0mdata2plot\u001b[0m\u001b[0;34m\u001b[0m\u001b[0m\n\u001b[0m",
      "\u001b[0;31mNameError\u001b[0m: name 'data2plot' is not defined"
     ]
    }
   ],
   "source": [
    "data2plot"
   ]
  },
  {
   "cell_type": "code",
   "execution_count": 55,
   "metadata": {},
   "outputs": [
    {
     "data": {
      "text/plain": [
       "array([  0,   0,   1,   1,   2,   2,   3,   3,   4,   4,   5,   5,   6,\n",
       "         6,   7,   7,   8,   8,   9,   9,  10,  10,  11,  11,  12,  12,\n",
       "        13,  13,  14,  14,  15,  15,  16,  16,  17,  17,  18,  18,  19,\n",
       "        19,  20,  20,  21,  21,  22,  22,  23,  23,  24,  24,  25,  25,\n",
       "        26,  26,  27,  27,  28,  28,  29,  29,  30,  30,  31,  31,  32,\n",
       "        32,  33,  33,  34,  34,  35,  35,  36,  36,  37,  37,  38,  38,\n",
       "        39,  39,  40,  40,  41,  41,  42,  42,  43,  43,  44,  44,  45,\n",
       "        45,  46,  46,  47,  47,  48,  48,  49,  49,  50,  50,  51,  51,\n",
       "        52,  52,  53,  53,  54,  54,  55,  55,  56,  56,  57,  57,  58,\n",
       "        58,  59,  59,  60,  60,  61,  61,  62,  62,  63,  63,  64,  64,\n",
       "        65,  65,  66,  66,  67,  67,  68,  68,  69,  69,  70,  70,  71,\n",
       "        71,  72,  72,  73,  73,  74,  74,  75,  75,  76,  76,  77,  77,\n",
       "        78,  78,  79,  79,  80,  80,  81,  81,  82,  82,  83,  83,  84,\n",
       "        84,  85,  85,  86,  86,  87,  87,  88,  88,  89,  89,  90,  90,\n",
       "        91,  91,  92,  92,  93,  93,  94,  94,  95,  95,  96,  96,  97,\n",
       "        97,  98,  98,  99,  99, 100, 100, 101, 101, 102, 102, 103, 103,\n",
       "       104, 104, 105, 105, 106, 106, 107, 107, 108, 108, 109, 109, 110,\n",
       "       110, 111, 111, 112, 112, 113, 113, 114, 114, 115, 115, 116, 116,\n",
       "       117, 117, 118, 118, 119, 119, 120, 120, 121, 121, 122, 122, 123,\n",
       "       123, 124, 124, 125, 125, 126, 126, 127, 127, 128, 128, 129, 129,\n",
       "       130, 130, 131, 131, 132, 132, 133, 133, 134, 134, 135, 135, 136,\n",
       "       136, 137, 137, 138, 138, 139, 139, 140, 140, 141, 141, 142, 142,\n",
       "       143, 143, 144, 144, 145, 145, 146, 146, 147, 147, 148, 148, 149,\n",
       "       149])"
      ]
     },
     "execution_count": 55,
     "metadata": {},
     "output_type": "execute_result"
    }
   ],
   "source": [
    "np.repeat(np.arange(0,150,1), 2,axis =0)"
   ]
  },
  {
   "cell_type": "code",
   "execution_count": 60,
   "metadata": {},
   "outputs": [
    {
     "data": {
      "text/plain": [
       "array([149, 148, 147, 146, 145, 144, 143, 142, 141, 140, 139, 138, 137,\n",
       "       136, 135, 134, 133, 132, 131, 130, 129, 128, 127, 126, 125, 124,\n",
       "       123, 122, 121, 120, 119, 118, 117, 116, 115, 114, 113, 112, 111,\n",
       "       110, 109, 108, 107, 106, 105, 104, 103, 102, 101, 100,  99,  98,\n",
       "        97,  96,  95,  94,  93,  92,  91,  90,  89,  88,  87,  86,  85,\n",
       "        84,  83,  82,  81,  80,  79,  78,  77,  76,  75,  74,  73,  72,\n",
       "        71,  70,  69,  68,  67,  66,  65,  64,  63,  62,  61,  60,  59,\n",
       "        58,  57,  56,  55,  54,  53,  52,  51,  50,  49,  48,  47,  46,\n",
       "        45,  44,  43,  42,  41,  40,  39,  38,  37,  36,  35,  34,  33,\n",
       "        32,  31,  30,  29,  28,  27,  26,  25,  24,  23,  22,  21,  20,\n",
       "        19,  18,  17,  16,  15,  14,  13,  12,  11,  10,   9,   8,   7,\n",
       "         6,   5,   4,   3,   2,   1,   0])"
      ]
     },
     "execution_count": 60,
     "metadata": {},
     "output_type": "execute_result"
    }
   ],
   "source": []
  },
  {
   "cell_type": "code",
   "execution_count": null,
   "metadata": {},
   "outputs": [],
   "source": []
  }
 ],
 "metadata": {
  "kernelspec": {
   "display_name": "Python 3",
   "language": "python",
   "name": "python3"
  },
  "language_info": {
   "codemirror_mode": {
    "name": "ipython",
    "version": 3
   },
   "file_extension": ".py",
   "mimetype": "text/x-python",
   "name": "python",
   "nbconvert_exporter": "python",
   "pygments_lexer": "ipython3",
   "version": "3.6.3"
  }
 },
 "nbformat": 4,
 "nbformat_minor": 4
}
